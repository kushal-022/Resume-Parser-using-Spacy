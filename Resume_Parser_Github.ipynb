{
  "nbformat": 4,
  "nbformat_minor": 0,
  "metadata": {
    "colab": {
      "provenance": [],
      "authorship_tag": "ABX9TyNtSKLxkqKHunXrmtLkADtg",
      "include_colab_link": true
    },
    "kernelspec": {
      "name": "python3",
      "display_name": "Python 3"
    },
    "language_info": {
      "name": "python"
    }
  },
  "cells": [
    {
      "cell_type": "markdown",
      "metadata": {
        "id": "view-in-github",
        "colab_type": "text"
      },
      "source": [
        "<a href=\"https://colab.research.google.com/github/kushal-022/Resume-Parser-using-Spacy/blob/main/Resume_Parser_Github.ipynb\" target=\"_parent\"><img src=\"https://colab.research.google.com/assets/colab-badge.svg\" alt=\"Open In Colab\"/></a>"
      ]
    },
    {
      "cell_type": "code",
      "execution_count": null,
      "metadata": {
        "id": "tTBQHDr9F58i"
      },
      "outputs": [],
      "source": [
        "KUSHAL RAGHUWANSHI "
      ]
    },
    {
      "cell_type": "markdown",
      "source": [
        "> **PDF OR DOC TO TEXT**\n",
        "\n"
      ],
      "metadata": {
        "id": "MKC0Cz_nb2St"
      }
    },
    {
      "cell_type": "markdown",
      "source": [
        ">> pdf\n",
        "\n",
        "\n",
        "\n",
        "\n",
        "\n",
        "\n",
        "\n"
      ],
      "metadata": {
        "id": "4sS-aFcqiK2r"
      }
    },
    {
      "cell_type": "code",
      "source": [
        "!pip install pyMuPDF"
      ],
      "metadata": {
        "colab": {
          "base_uri": "https://localhost:8080/"
        },
        "id": "CFiLSDvSiFQp",
        "outputId": "675f6d7f-db87-4aae-d899-c35169f607f9"
      },
      "execution_count": null,
      "outputs": [
        {
          "output_type": "stream",
          "name": "stdout",
          "text": [
            "Looking in indexes: https://pypi.org/simple, https://us-python.pkg.dev/colab-wheels/public/simple/\n",
            "Collecting pyMuPDF\n",
            "  Downloading PyMuPDF-1.21.1-cp38-cp38-manylinux_2_17_x86_64.manylinux2014_x86_64.whl (14.0 MB)\n",
            "\u001b[2K     \u001b[90m━━━━━━━━━━━━━━━━━━━━━━━━━━━━━━━━━━━━━━━━\u001b[0m \u001b[32m14.0/14.0 MB\u001b[0m \u001b[31m68.6 MB/s\u001b[0m eta \u001b[36m0:00:00\u001b[0m\n",
            "\u001b[?25hInstalling collected packages: pyMuPDF\n",
            "Successfully installed pyMuPDF-1.21.1\n"
          ]
        }
      ]
    },
    {
      "cell_type": "code",
      "execution_count": null,
      "metadata": {
        "id": "lg-E8oXUaCxs"
      },
      "outputs": [],
      "source": [
        "import sys, fitz\n",
        "\n",
        "def pdfToText(file_name):\n",
        "  doc = fitz.open(file_name)\n",
        "  text = \"\"\n",
        "  for page in doc:\n",
        "    text = text + str(page.get_text())\n",
        "  tx = \" \".join(text.split(\"\\n\"))\n",
        "  return tx"
      ]
    },
    {
      "cell_type": "markdown",
      "source": [
        ">> word"
      ],
      "metadata": {
        "id": "uHAVeCW2iwlG"
      }
    },
    {
      "cell_type": "code",
      "source": [
        "!pip install docx2txt"
      ],
      "metadata": {
        "id": "dTrwvhvZiEKy",
        "colab": {
          "base_uri": "https://localhost:8080/"
        },
        "outputId": "9058d4bf-8a0f-4103-e40c-3da6c2c0eb5b"
      },
      "execution_count": null,
      "outputs": [
        {
          "output_type": "stream",
          "name": "stdout",
          "text": [
            "Looking in indexes: https://pypi.org/simple, https://us-python.pkg.dev/colab-wheels/public/simple/\n",
            "Collecting docx2txt\n",
            "  Downloading docx2txt-0.8.tar.gz (2.8 kB)\n",
            "  Preparing metadata (setup.py) ... \u001b[?25l\u001b[?25hdone\n",
            "Building wheels for collected packages: docx2txt\n",
            "  Building wheel for docx2txt (setup.py) ... \u001b[?25l\u001b[?25hdone\n",
            "  Created wheel for docx2txt: filename=docx2txt-0.8-py3-none-any.whl size=3980 sha256=7af427fddf1b24207f6d60e320fa01129507eec329475560054a849c3af3c4c3\n",
            "  Stored in directory: /root/.cache/pip/wheels/55/f0/2c/81637d42670985178b77df6d41b9b6c6dc18c94818447414b9\n",
            "Successfully built docx2txt\n",
            "Installing collected packages: docx2txt\n",
            "Successfully installed docx2txt-0.8\n"
          ]
        }
      ]
    },
    {
      "cell_type": "code",
      "source": [
        "#import docx2txt\n",
        "#my_text = docx2txt.process(\"test.docx\")\n",
        "#print(my_text)"
      ],
      "metadata": {
        "id": "YOLo2c00jWw7"
      },
      "execution_count": null,
      "outputs": []
    },
    {
      "cell_type": "markdown",
      "source": [
        "\n",
        "\n",
        "---\n",
        "Text Extraction\n",
        "\n",
        "\n",
        "---\n",
        "\n"
      ],
      "metadata": {
        "id": "zmEUFJOQj88Q"
      }
    },
    {
      "cell_type": "code",
      "source": [
        "text = pdfToText(\"resum_test2.pdf\")"
      ],
      "metadata": {
        "id": "TJlnbjM0j8gj"
      },
      "execution_count": null,
      "outputs": []
    },
    {
      "cell_type": "code",
      "source": [
        "print(text)"
      ],
      "metadata": {
        "colab": {
          "base_uri": "https://localhost:8080/"
        },
        "id": "hAMZPSq-kw7d",
        "outputId": "a824a30a-ec20-4a62-fe3f-a17be39294be"
      },
      "execution_count": null,
      "outputs": [
        {
          "output_type": "stream",
          "name": "stdout",
          "text": [
            "SENIOR ENGINEERING MANAGER Summary Personable, patient and adaptable Math tutor with 3 years of experience tutoring K-12 and college students in Mathematics. Highly reliable and approachable person with 8 years of professional experience in people management, leadership, documentation, multi-tasking, innovation and creativity, gained through the corporate world of Silicon Valley. Accomplishments Problem Solving Â  Assisted students from K-12 through college on a variety of class assignments, helped them understand how to solve quantitative problems and achieve higher grades in their classes. Creative Lesson Planning Â  Motivated students to engage with course materials by organizing colorful, fun flashcard games to be used as a recall technique to enhance learning. Grading Â  Evaluated college level exam papers, making sure grades accurately and fairly reflect the quality of students' work. Presentation Â  Designed and created course presentations to be used by SFSU instructor in a management class. Created and presented several presentations for colleagues using Microsoft PowerPoint and Google Docs. Training Â  Provided SQL programming trainings to corporate team members in a classroom setting to enhance their knowledge of SQL which allowed them to significantly improve data analysis. Education Master of Business Administration : Decision Sciences 2007 San Francisco State University City , State Courses: Operations Management, Total Quality Systems, Project Management, Business Forecasting, Supply Chain Management Bachelor of Science : Mathematical Engineering 2004 Yildiz Technical University City , Turkey Courses: Mathematical Analysis 1, 2, 3 & 4, Linear Algebra, Fundamentals of Mathematical Logic, Analytic Geometry, Ordinary Differential Equations 1 & 2, Theory of Probability, Numerical Analysis 1 & 2, Statistics, Matrix Analysis, Optimization Techniques, Insurance Mathematics Teaching Experience Volunteer Math Tutor 09/2015 to Current Company Name City , State Tutored students in Algebra, Geometry, Statistics Attended Algebra classes to provide special assistance to English language learners ( ELLs) and help them understand the content and express their grasp of mathematical concepts both orally and in writing. Volunteer Math Tutor 04/2015 to 05/2015 Company Name City , State Assisted students in Algebra I and II by providing volunteer teaching during flex time hours which is a class period when students visit a chosen class to seek help with struggles or expand on their interests. Teaching Assistant 09/2005 to 05/2007 Company Name City , State Edited several business forecasting and operations management thesis papers for journal publications. Graded exam papers and evaluated operations management and total quality systems class assignments. Assisted in operations analysis, statistics and mathematics related work as assigned. Mathematics and Statistics Tutor 09/2005 to 09/2006 Company Name City , State Tutored students in mathematics, statistics and probability, estimation, hypothesis tests, regression analysis, and correlation, quantitative analysis of production management and control with related computer applications and optimization techniques, inventory control, demand forecasting. Corporate Experience Operational Excellence Lead, Google Express 11/2004 to 04/2005 Company Name City , State Analyzed data using statistical analysis tools such as correlation and multiple regression analysis. Reviewed results and provided recommendations on system improvements, courier performance efficiency and capacity planning using various optimization and data analysis techniques. Identified operational areas that needed process and speed improvement to deliver orders faster. Consultant 01/2013 to 02/2014 Company Name City , State Supported the 77Looks application from pre-launch to current in marketing, content management, quality testing areas. Application won SF Fashion Tech Pitch Competition in June 2013 and company has reached approximately 1M active users. Operations Manager 10/2011 to 01/2013 Company Name City , State Supervised a team of logistics analysts and warehouse staff in global warehouses. Defined the scope of key performance indicator (KPI) reports and analytical tools needed which helped decrease operational errors by more than 80%. Turned large data sets into actionable items in the form of order forecast reports, optimization tools and inventory reconciliation reports. Senior Analyst 10/2010 to 10/2011 Company Name City , State Supported global operations by ensuring warehouse productivity, inventory accuracy, timeliness of order fulfillment and shipments. Documented standard operating procedure(SOPs) and work flow processes for the use of operations and customer support teams. Account Manager and Logistics Analyst 07/2007 to 10/2010 Company Name City , State Managed customer accounts in different industries to ensure on time delivery of shipments for import and export operations. Supervised and trained new users for procurement and warehouse management system. Skills Tutoring, teaching, mathematics, algebra, geometry, English, content management, documentation, middle school & high school math, college math, presentation, analysis, grading and evaluation, problem solving, ESL students, technology integration, classroom monitoring, student assistance Account management, customer care and satisfaction, data analysis, forecasting, inventory, quantitative analysis, leadership, operations management, procurement, project management, optimization C, C++, MS Office Suite, Google Docs, SQL \n"
          ]
        }
      ]
    },
    {
      "cell_type": "markdown",
      "source": [
        "# Downoad and Import the libraries"
      ],
      "metadata": {
        "id": "UWjDXBJDjmnO"
      }
    },
    {
      "cell_type": "code",
      "source": [
        "!pip install spacy"
      ],
      "metadata": {
        "id": "ApjXjwSBjmBk",
        "colab": {
          "base_uri": "https://localhost:8080/"
        },
        "outputId": "bfc3ce62-7907-4c54-e7d5-5cce0a43be53"
      },
      "execution_count": null,
      "outputs": [
        {
          "output_type": "stream",
          "name": "stdout",
          "text": [
            "Looking in indexes: https://pypi.org/simple, https://us-python.pkg.dev/colab-wheels/public/simple/\n",
            "Requirement already satisfied: spacy in /usr/local/lib/python3.8/dist-packages (3.4.4)\n",
            "Requirement already satisfied: spacy-legacy<3.1.0,>=3.0.10 in /usr/local/lib/python3.8/dist-packages (from spacy) (3.0.10)\n",
            "Requirement already satisfied: smart-open<7.0.0,>=5.2.1 in /usr/local/lib/python3.8/dist-packages (from spacy) (6.3.0)\n",
            "Requirement already satisfied: requests<3.0.0,>=2.13.0 in /usr/local/lib/python3.8/dist-packages (from spacy) (2.25.1)\n",
            "Requirement already satisfied: jinja2 in /usr/local/lib/python3.8/dist-packages (from spacy) (2.11.3)\n",
            "Requirement already satisfied: catalogue<2.1.0,>=2.0.6 in /usr/local/lib/python3.8/dist-packages (from spacy) (2.0.8)\n",
            "Requirement already satisfied: langcodes<4.0.0,>=3.2.0 in /usr/local/lib/python3.8/dist-packages (from spacy) (3.3.0)\n",
            "Requirement already satisfied: thinc<8.2.0,>=8.1.0 in /usr/local/lib/python3.8/dist-packages (from spacy) (8.1.6)\n",
            "Requirement already satisfied: numpy>=1.15.0 in /usr/local/lib/python3.8/dist-packages (from spacy) (1.21.6)\n",
            "Requirement already satisfied: packaging>=20.0 in /usr/local/lib/python3.8/dist-packages (from spacy) (21.3)\n",
            "Requirement already satisfied: wasabi<1.1.0,>=0.9.1 in /usr/local/lib/python3.8/dist-packages (from spacy) (0.10.1)\n",
            "Requirement already satisfied: cymem<2.1.0,>=2.0.2 in /usr/local/lib/python3.8/dist-packages (from spacy) (2.0.7)\n",
            "Requirement already satisfied: murmurhash<1.1.0,>=0.28.0 in /usr/local/lib/python3.8/dist-packages (from spacy) (1.0.9)\n",
            "Requirement already satisfied: setuptools in /usr/local/lib/python3.8/dist-packages (from spacy) (57.4.0)\n",
            "Requirement already satisfied: spacy-loggers<2.0.0,>=1.0.0 in /usr/local/lib/python3.8/dist-packages (from spacy) (1.0.4)\n",
            "Requirement already satisfied: pydantic!=1.8,!=1.8.1,<1.11.0,>=1.7.4 in /usr/local/lib/python3.8/dist-packages (from spacy) (1.10.2)\n",
            "Requirement already satisfied: preshed<3.1.0,>=3.0.2 in /usr/local/lib/python3.8/dist-packages (from spacy) (3.0.8)\n",
            "Requirement already satisfied: pathy>=0.3.5 in /usr/local/lib/python3.8/dist-packages (from spacy) (0.10.1)\n",
            "Requirement already satisfied: tqdm<5.0.0,>=4.38.0 in /usr/local/lib/python3.8/dist-packages (from spacy) (4.64.1)\n",
            "Requirement already satisfied: srsly<3.0.0,>=2.4.3 in /usr/local/lib/python3.8/dist-packages (from spacy) (2.4.5)\n",
            "Requirement already satisfied: typer<0.8.0,>=0.3.0 in /usr/local/lib/python3.8/dist-packages (from spacy) (0.7.0)\n",
            "Requirement already satisfied: pyparsing!=3.0.5,>=2.0.2 in /usr/local/lib/python3.8/dist-packages (from packaging>=20.0->spacy) (3.0.9)\n",
            "Requirement already satisfied: typing-extensions>=4.1.0 in /usr/local/lib/python3.8/dist-packages (from pydantic!=1.8,!=1.8.1,<1.11.0,>=1.7.4->spacy) (4.4.0)\n",
            "Requirement already satisfied: chardet<5,>=3.0.2 in /usr/local/lib/python3.8/dist-packages (from requests<3.0.0,>=2.13.0->spacy) (4.0.0)\n",
            "Requirement already satisfied: urllib3<1.27,>=1.21.1 in /usr/local/lib/python3.8/dist-packages (from requests<3.0.0,>=2.13.0->spacy) (1.24.3)\n",
            "Requirement already satisfied: certifi>=2017.4.17 in /usr/local/lib/python3.8/dist-packages (from requests<3.0.0,>=2.13.0->spacy) (2022.12.7)\n",
            "Requirement already satisfied: idna<3,>=2.5 in /usr/local/lib/python3.8/dist-packages (from requests<3.0.0,>=2.13.0->spacy) (2.10)\n",
            "Requirement already satisfied: confection<1.0.0,>=0.0.1 in /usr/local/lib/python3.8/dist-packages (from thinc<8.2.0,>=8.1.0->spacy) (0.0.3)\n",
            "Requirement already satisfied: blis<0.8.0,>=0.7.8 in /usr/local/lib/python3.8/dist-packages (from thinc<8.2.0,>=8.1.0->spacy) (0.7.9)\n",
            "Requirement already satisfied: click<9.0.0,>=7.1.1 in /usr/local/lib/python3.8/dist-packages (from typer<0.8.0,>=0.3.0->spacy) (7.1.2)\n",
            "Requirement already satisfied: MarkupSafe>=0.23 in /usr/local/lib/python3.8/dist-packages (from jinja2->spacy) (2.0.1)\n"
          ]
        }
      ]
    },
    {
      "cell_type": "code",
      "source": [
        "!python -m spacy download en_core_web_sm"
      ],
      "metadata": {
        "id": "vIviKuWHldVf",
        "colab": {
          "base_uri": "https://localhost:8080/"
        },
        "outputId": "2f78288e-a6af-4484-9a7b-883ecc0b235d"
      },
      "execution_count": null,
      "outputs": [
        {
          "output_type": "stream",
          "name": "stdout",
          "text": [
            "/usr/local/lib/python3.8/dist-packages/torch/cuda/__init__.py:497: UserWarning: Can't initialize NVML\n",
            "  warnings.warn(\"Can't initialize NVML\")\n",
            "2023-01-05 10:33:41.925059: E tensorflow/stream_executor/cuda/cuda_driver.cc:271] failed call to cuInit: CUDA_ERROR_NO_DEVICE: no CUDA-capable device is detected\n",
            "Looking in indexes: https://pypi.org/simple, https://us-python.pkg.dev/colab-wheels/public/simple/\n",
            "Collecting en-core-web-sm==3.4.1\n",
            "  Downloading https://github.com/explosion/spacy-models/releases/download/en_core_web_sm-3.4.1/en_core_web_sm-3.4.1-py3-none-any.whl (12.8 MB)\n",
            "\u001b[2K     \u001b[90m━━━━━━━━━━━━━━━━━━━━━━━━━━━━━━━━━━━━━━━━\u001b[0m \u001b[32m12.8/12.8 MB\u001b[0m \u001b[31m24.8 MB/s\u001b[0m eta \u001b[36m0:00:00\u001b[0m\n",
            "\u001b[?25hRequirement already satisfied: spacy<3.5.0,>=3.4.0 in /usr/local/lib/python3.8/dist-packages (from en-core-web-sm==3.4.1) (3.4.4)\n",
            "Requirement already satisfied: murmurhash<1.1.0,>=0.28.0 in /usr/local/lib/python3.8/dist-packages (from spacy<3.5.0,>=3.4.0->en-core-web-sm==3.4.1) (1.0.9)\n",
            "Requirement already satisfied: wasabi<1.1.0,>=0.9.1 in /usr/local/lib/python3.8/dist-packages (from spacy<3.5.0,>=3.4.0->en-core-web-sm==3.4.1) (0.10.1)\n",
            "Requirement already satisfied: smart-open<7.0.0,>=5.2.1 in /usr/local/lib/python3.8/dist-packages (from spacy<3.5.0,>=3.4.0->en-core-web-sm==3.4.1) (6.3.0)\n",
            "Requirement already satisfied: srsly<3.0.0,>=2.4.3 in /usr/local/lib/python3.8/dist-packages (from spacy<3.5.0,>=3.4.0->en-core-web-sm==3.4.1) (2.4.5)\n",
            "Requirement already satisfied: thinc<8.2.0,>=8.1.0 in /usr/local/lib/python3.8/dist-packages (from spacy<3.5.0,>=3.4.0->en-core-web-sm==3.4.1) (8.1.6)\n",
            "Requirement already satisfied: pathy>=0.3.5 in /usr/local/lib/python3.8/dist-packages (from spacy<3.5.0,>=3.4.0->en-core-web-sm==3.4.1) (0.10.1)\n",
            "Requirement already satisfied: typer<0.8.0,>=0.3.0 in /usr/local/lib/python3.8/dist-packages (from spacy<3.5.0,>=3.4.0->en-core-web-sm==3.4.1) (0.7.0)\n",
            "Requirement already satisfied: pydantic!=1.8,!=1.8.1,<1.11.0,>=1.7.4 in /usr/local/lib/python3.8/dist-packages (from spacy<3.5.0,>=3.4.0->en-core-web-sm==3.4.1) (1.10.2)\n",
            "Requirement already satisfied: langcodes<4.0.0,>=3.2.0 in /usr/local/lib/python3.8/dist-packages (from spacy<3.5.0,>=3.4.0->en-core-web-sm==3.4.1) (3.3.0)\n",
            "Requirement already satisfied: cymem<2.1.0,>=2.0.2 in /usr/local/lib/python3.8/dist-packages (from spacy<3.5.0,>=3.4.0->en-core-web-sm==3.4.1) (2.0.7)\n",
            "Requirement already satisfied: tqdm<5.0.0,>=4.38.0 in /usr/local/lib/python3.8/dist-packages (from spacy<3.5.0,>=3.4.0->en-core-web-sm==3.4.1) (4.64.1)\n",
            "Requirement already satisfied: catalogue<2.1.0,>=2.0.6 in /usr/local/lib/python3.8/dist-packages (from spacy<3.5.0,>=3.4.0->en-core-web-sm==3.4.1) (2.0.8)\n",
            "Requirement already satisfied: jinja2 in /usr/local/lib/python3.8/dist-packages (from spacy<3.5.0,>=3.4.0->en-core-web-sm==3.4.1) (2.11.3)\n",
            "Requirement already satisfied: spacy-legacy<3.1.0,>=3.0.10 in /usr/local/lib/python3.8/dist-packages (from spacy<3.5.0,>=3.4.0->en-core-web-sm==3.4.1) (3.0.10)\n",
            "Requirement already satisfied: preshed<3.1.0,>=3.0.2 in /usr/local/lib/python3.8/dist-packages (from spacy<3.5.0,>=3.4.0->en-core-web-sm==3.4.1) (3.0.8)\n",
            "Requirement already satisfied: requests<3.0.0,>=2.13.0 in /usr/local/lib/python3.8/dist-packages (from spacy<3.5.0,>=3.4.0->en-core-web-sm==3.4.1) (2.25.1)\n",
            "Requirement already satisfied: setuptools in /usr/local/lib/python3.8/dist-packages (from spacy<3.5.0,>=3.4.0->en-core-web-sm==3.4.1) (57.4.0)\n",
            "Requirement already satisfied: numpy>=1.15.0 in /usr/local/lib/python3.8/dist-packages (from spacy<3.5.0,>=3.4.0->en-core-web-sm==3.4.1) (1.21.6)\n",
            "Requirement already satisfied: spacy-loggers<2.0.0,>=1.0.0 in /usr/local/lib/python3.8/dist-packages (from spacy<3.5.0,>=3.4.0->en-core-web-sm==3.4.1) (1.0.4)\n",
            "Requirement already satisfied: packaging>=20.0 in /usr/local/lib/python3.8/dist-packages (from spacy<3.5.0,>=3.4.0->en-core-web-sm==3.4.1) (21.3)\n",
            "Requirement already satisfied: pyparsing!=3.0.5,>=2.0.2 in /usr/local/lib/python3.8/dist-packages (from packaging>=20.0->spacy<3.5.0,>=3.4.0->en-core-web-sm==3.4.1) (3.0.9)\n",
            "Requirement already satisfied: typing-extensions>=4.1.0 in /usr/local/lib/python3.8/dist-packages (from pydantic!=1.8,!=1.8.1,<1.11.0,>=1.7.4->spacy<3.5.0,>=3.4.0->en-core-web-sm==3.4.1) (4.4.0)\n",
            "Requirement already satisfied: urllib3<1.27,>=1.21.1 in /usr/local/lib/python3.8/dist-packages (from requests<3.0.0,>=2.13.0->spacy<3.5.0,>=3.4.0->en-core-web-sm==3.4.1) (1.24.3)\n",
            "Requirement already satisfied: chardet<5,>=3.0.2 in /usr/local/lib/python3.8/dist-packages (from requests<3.0.0,>=2.13.0->spacy<3.5.0,>=3.4.0->en-core-web-sm==3.4.1) (4.0.0)\n",
            "Requirement already satisfied: idna<3,>=2.5 in /usr/local/lib/python3.8/dist-packages (from requests<3.0.0,>=2.13.0->spacy<3.5.0,>=3.4.0->en-core-web-sm==3.4.1) (2.10)\n",
            "Requirement already satisfied: certifi>=2017.4.17 in /usr/local/lib/python3.8/dist-packages (from requests<3.0.0,>=2.13.0->spacy<3.5.0,>=3.4.0->en-core-web-sm==3.4.1) (2022.12.7)\n",
            "Requirement already satisfied: blis<0.8.0,>=0.7.8 in /usr/local/lib/python3.8/dist-packages (from thinc<8.2.0,>=8.1.0->spacy<3.5.0,>=3.4.0->en-core-web-sm==3.4.1) (0.7.9)\n",
            "Requirement already satisfied: confection<1.0.0,>=0.0.1 in /usr/local/lib/python3.8/dist-packages (from thinc<8.2.0,>=8.1.0->spacy<3.5.0,>=3.4.0->en-core-web-sm==3.4.1) (0.0.3)\n",
            "Requirement already satisfied: click<9.0.0,>=7.1.1 in /usr/local/lib/python3.8/dist-packages (from typer<0.8.0,>=0.3.0->spacy<3.5.0,>=3.4.0->en-core-web-sm==3.4.1) (7.1.2)\n",
            "Requirement already satisfied: MarkupSafe>=0.23 in /usr/local/lib/python3.8/dist-packages (from jinja2->spacy<3.5.0,>=3.4.0->en-core-web-sm==3.4.1) (2.0.1)\n",
            "\u001b[38;5;2m✔ Download and installation successful\u001b[0m\n",
            "You can now load the package via spacy.load('en_core_web_sm')\n"
          ]
        }
      ]
    },
    {
      "cell_type": "code",
      "source": [
        "import spacy\n",
        "import pandas as pd\n",
        "import numpy as np\n",
        "import matplotlib.pyplot as plt"
      ],
      "metadata": {
        "colab": {
          "base_uri": "https://localhost:8080/"
        },
        "id": "D2G00ICKltfA",
        "outputId": "f1cb1b6d-c08e-4c3b-bbf6-7b189e13d857"
      },
      "execution_count": null,
      "outputs": [
        {
          "output_type": "stream",
          "name": "stderr",
          "text": [
            "/usr/local/lib/python3.8/dist-packages/torch/cuda/__init__.py:497: UserWarning: Can't initialize NVML\n",
            "  warnings.warn(\"Can't initialize NVML\")\n"
          ]
        }
      ]
    },
    {
      "cell_type": "markdown",
      "source": [
        "Converting to spacy doc"
      ],
      "metadata": {
        "id": "2xD52UR9mp7R"
      }
    },
    {
      "cell_type": "code",
      "source": [
        "nlp = spacy.load(\"en_core_web_sm\")"
      ],
      "metadata": {
        "id": "4QSsrPQim2d6"
      },
      "execution_count": null,
      "outputs": []
    },
    {
      "cell_type": "code",
      "source": [
        "doc = nlp(text)"
      ],
      "metadata": {
        "id": "Jz9p5x_8mNBw"
      },
      "execution_count": null,
      "outputs": []
    },
    {
      "cell_type": "code",
      "source": [
        "print(doc)"
      ],
      "metadata": {
        "colab": {
          "base_uri": "https://localhost:8080/"
        },
        "id": "gwd9MDckmx7y",
        "outputId": "d6f3c6bb-b1d8-4125-9eed-f944acc51653"
      },
      "execution_count": null,
      "outputs": [
        {
          "output_type": "stream",
          "name": "stdout",
          "text": [
            "SENIOR ENGINEERING MANAGER Summary Personable, patient and adaptable Math tutor with 3 years of experience tutoring K-12 and college students in Mathematics. Highly reliable and approachable person with 8 years of professional experience in people management, leadership, documentation, multi-tasking, innovation and creativity, gained through the corporate world of Silicon Valley. Accomplishments Problem Solving Â  Assisted students from K-12 through college on a variety of class assignments, helped them understand how to solve quantitative problems and achieve higher grades in their classes. Creative Lesson Planning Â  Motivated students to engage with course materials by organizing colorful, fun flashcard games to be used as a recall technique to enhance learning. Grading Â  Evaluated college level exam papers, making sure grades accurately and fairly reflect the quality of students' work. Presentation Â  Designed and created course presentations to be used by SFSU instructor in a management class. Created and presented several presentations for colleagues using Microsoft PowerPoint and Google Docs. Training Â  Provided SQL programming trainings to corporate team members in a classroom setting to enhance their knowledge of SQL which allowed them to significantly improve data analysis. Education Master of Business Administration : Decision Sciences 2007 San Francisco State University City , State Courses: Operations Management, Total Quality Systems, Project Management, Business Forecasting, Supply Chain Management Bachelor of Science : Mathematical Engineering 2004 Yildiz Technical University City , Turkey Courses: Mathematical Analysis 1, 2, 3 & 4, Linear Algebra, Fundamentals of Mathematical Logic, Analytic Geometry, Ordinary Differential Equations 1 & 2, Theory of Probability, Numerical Analysis 1 & 2, Statistics, Matrix Analysis, Optimization Techniques, Insurance Mathematics Teaching Experience Volunteer Math Tutor 09/2015 to Current Company Name City , State Tutored students in Algebra, Geometry, Statistics Attended Algebra classes to provide special assistance to English language learners ( ELLs) and help them understand the content and express their grasp of mathematical concepts both orally and in writing. Volunteer Math Tutor 04/2015 to 05/2015 Company Name City , State Assisted students in Algebra I and II by providing volunteer teaching during flex time hours which is a class period when students visit a chosen class to seek help with struggles or expand on their interests. Teaching Assistant 09/2005 to 05/2007 Company Name City , State Edited several business forecasting and operations management thesis papers for journal publications. Graded exam papers and evaluated operations management and total quality systems class assignments. Assisted in operations analysis, statistics and mathematics related work as assigned. Mathematics and Statistics Tutor 09/2005 to 09/2006 Company Name City , State Tutored students in mathematics, statistics and probability, estimation, hypothesis tests, regression analysis, and correlation, quantitative analysis of production management and control with related computer applications and optimization techniques, inventory control, demand forecasting. Corporate Experience Operational Excellence Lead, Google Express 11/2004 to 04/2005 Company Name City , State Analyzed data using statistical analysis tools such as correlation and multiple regression analysis. Reviewed results and provided recommendations on system improvements, courier performance efficiency and capacity planning using various optimization and data analysis techniques. Identified operational areas that needed process and speed improvement to deliver orders faster. Consultant 01/2013 to 02/2014 Company Name City , State Supported the 77Looks application from pre-launch to current in marketing, content management, quality testing areas. Application won SF Fashion Tech Pitch Competition in June 2013 and company has reached approximately 1M active users. Operations Manager 10/2011 to 01/2013 Company Name City , State Supervised a team of logistics analysts and warehouse staff in global warehouses. Defined the scope of key performance indicator (KPI) reports and analytical tools needed which helped decrease operational errors by more than 80%. Turned large data sets into actionable items in the form of order forecast reports, optimization tools and inventory reconciliation reports. Senior Analyst 10/2010 to 10/2011 Company Name City , State Supported global operations by ensuring warehouse productivity, inventory accuracy, timeliness of order fulfillment and shipments. Documented standard operating procedure(SOPs) and work flow processes for the use of operations and customer support teams. Account Manager and Logistics Analyst 07/2007 to 10/2010 Company Name City , State Managed customer accounts in different industries to ensure on time delivery of shipments for import and export operations. Supervised and trained new users for procurement and warehouse management system. Skills Tutoring, teaching, mathematics, algebra, geometry, English, content management, documentation, middle school & high school math, college math, presentation, analysis, grading and evaluation, problem solving, ESL students, technology integration, classroom monitoring, student assistance Account management, customer care and satisfaction, data analysis, forecasting, inventory, quantitative analysis, leadership, operations management, procurement, project management, optimization C, C++, MS Office Suite, Google Docs, SQL \n"
          ]
        }
      ]
    },
    {
      "cell_type": "code",
      "source": [
        "# sents -> sentence\n",
        "for sent in doc.sents:\n",
        "  print(sent)"
      ],
      "metadata": {
        "colab": {
          "base_uri": "https://localhost:8080/"
        },
        "id": "zKNyrWjnm8IY",
        "outputId": "5a7bad51-e9fe-4e1e-b9f7-d423c08dc06c"
      },
      "execution_count": null,
      "outputs": [
        {
          "output_type": "stream",
          "name": "stdout",
          "text": [
            "SENIOR ENGINEERING MANAGER Summary Personable, patient and adaptable Math tutor with 3 years of experience tutoring K-12 and college students in Mathematics.\n",
            "Highly reliable and approachable person with 8 years of professional experience in people management, leadership, documentation, multi-tasking, innovation and creativity, gained through the corporate world of Silicon Valley.\n",
            "Accomplishments Problem\n",
            "Solving Â  Assisted students from K-12 through college on a variety of class assignments, helped them understand how to solve quantitative problems and achieve higher grades in their classes.\n",
            "Creative Lesson Planning Â  Motivated students to engage with course materials by organizing colorful, fun flashcard games to be used as a recall technique to enhance learning.\n",
            "Grading Â  Evaluated college level exam papers, making sure grades accurately and fairly reflect the quality of students' work.\n",
            "Presentation Â  Designed and created course presentations to be used by SFSU instructor in a management class.\n",
            "Created and presented several presentations for colleagues using Microsoft PowerPoint and Google Docs.\n",
            "Training Â  Provided SQL programming trainings to corporate team members in a classroom setting to enhance their knowledge of SQL which allowed them to significantly improve data analysis.\n",
            "Education Master of Business Administration : Decision Sciences 2007 San Francisco State University City , State Courses: Operations Management, Total Quality Systems, Project Management, Business Forecasting, Supply Chain Management Bachelor of Science : Mathematical Engineering 2004 Yildiz Technical University City , Turkey Courses: Mathematical Analysis 1, 2, 3 & 4, Linear Algebra, Fundamentals of Mathematical Logic, Analytic Geometry, Ordinary Differential Equations 1 & 2, Theory of Probability, Numerical Analysis 1 & 2, Statistics, Matrix Analysis, Optimization Techniques, Insurance Mathematics Teaching Experience Volunteer Math Tutor 09/2015 to Current Company Name City , State Tutored students in Algebra, Geometry, Statistics Attended Algebra classes to provide special assistance to English language learners ( ELLs) and help them understand the content and express their grasp of mathematical concepts both orally and in writing.\n",
            "Volunteer Math Tutor 04/2015 to 05/2015\n",
            "Company Name City , State Assisted students in Algebra I and II\n",
            "by providing volunteer teaching during flex time hours which is a class period when students visit a chosen class to seek help with struggles or expand on their interests.\n",
            "Teaching Assistant 09/2005 to 05/2007 Company Name City , State Edited several business forecasting and operations management thesis papers for journal publications.\n",
            "Graded exam papers and evaluated operations management and total quality systems class assignments.\n",
            "Assisted in operations analysis, statistics and mathematics related work as assigned.\n",
            "Mathematics and Statistics Tutor 09/2005 to 09/2006\n",
            "Company Name City , State Tutored students in mathematics, statistics and probability, estimation, hypothesis tests, regression analysis, and correlation, quantitative analysis of production management and control with related computer applications and optimization techniques, inventory control, demand forecasting.\n",
            "Corporate Experience Operational Excellence Lead, Google Express 11/2004 to 04/2005 Company Name City , State Analyzed data using statistical analysis tools such as correlation and multiple regression analysis.\n",
            "Reviewed results and provided recommendations on system improvements, courier performance efficiency and capacity planning using various optimization and data analysis techniques.\n",
            "Identified operational areas that needed process and speed improvement to deliver orders faster.\n",
            "Consultant 01/2013 to 02/2014 Company Name City , State Supported the 77Looks application from pre-launch to current in marketing, content management, quality testing areas.\n",
            "Application won SF Fashion Tech Pitch Competition in June 2013 and company has reached approximately 1M active users.\n",
            "Operations Manager 10/2011 to 01/2013 Company Name City , State Supervised a team of logistics analysts and warehouse staff in global warehouses.\n",
            "Defined the scope of key performance indicator (KPI) reports and analytical tools needed which helped decrease operational errors by more than 80%.\n",
            "Turned large data sets into actionable items in the form of order forecast reports, optimization tools and inventory reconciliation reports.\n",
            "Senior Analyst 10/2010 to 10/2011 Company Name City , State Supported global operations by ensuring warehouse productivity, inventory accuracy, timeliness of order fulfillment and shipments.\n",
            "Documented standard operating procedure(SOPs) and work flow processes for the use of operations and customer support teams.\n",
            "Account Manager and Logistics Analyst 07/2007 to 10/2010 Company Name City , State Managed customer accounts in different industries to ensure on time delivery of shipments for import and export operations.\n",
            "Supervised and trained new users for procurement and warehouse management system.\n",
            "Skills Tutoring, teaching, mathematics, algebra, geometry, English, content management, documentation, middle school & high school math, college math, presentation, analysis, grading and evaluation, problem solving, ESL students, technology integration, classroom monitoring, student assistance Account management, customer care and satisfaction, data analysis, forecasting, inventory, quantitative analysis, leadership, operations management, procurement, project management, optimization C, C++, MS Office Suite, Google Docs, SQL\n"
          ]
        }
      ]
    },
    {
      "cell_type": "markdown",
      "source": [
        "\n",
        "\n",
        "---\n",
        "\n",
        "\n",
        "\n",
        "---\n",
        "\n"
      ],
      "metadata": {
        "id": "JWOo_bCkot4_"
      }
    },
    {
      "cell_type": "code",
      "source": [
        "#ents->entity\n",
        "for ent in doc.ents:\n",
        "  print(ent.text, ent.label_)"
      ],
      "metadata": {
        "id": "WKDNy5jsovSg",
        "outputId": "f6254c4a-6e9c-48b8-dadf-73638f48c22c",
        "colab": {
          "base_uri": "https://localhost:8080/"
        }
      },
      "execution_count": null,
      "outputs": [
        {
          "output_type": "stream",
          "name": "stdout",
          "text": [
            "3 years DATE\n",
            "K-12 PRODUCT\n",
            "Mathematics GPE\n",
            "8 years DATE\n",
            "Silicon Valley LOC\n",
            "K-12 PERSON\n",
            "SFSU ORG\n",
            "Microsoft PowerPoint ORG\n",
            "Google Docs PERSON\n",
            "SQL ORG\n",
            "Decision Sciences ORG\n",
            "2007 DATE\n",
            "San Francisco ORG\n",
            "Total Quality Systems ORG\n",
            "Project Management ORG\n",
            "Business Forecasting ORG\n",
            "Supply Chain Management Bachelor of Science : Mathematical Engineering ORG\n",
            "Yildiz Technical University City ORG\n",
            "1 CARDINAL\n",
            "2 DATE\n",
            "3 & 4 ORG\n",
            "Linear Algebra ORG\n",
            "Theory of Probability ORG\n",
            "Numerical Analysis 1 ORG\n",
            "Statistics ORG\n",
            "Matrix Analysis ORG\n",
            "Optimization Techniques ORG\n",
            "Current Company Name City ORG\n",
            "State ORG\n",
            "Algebra ORG\n",
            "Geometry ORG\n",
            "Statistics Attended Algebra ORG\n",
            "English LANGUAGE\n",
            "Volunteer Math Tutor 04/2015 PERSON\n",
            "Algebra ORG\n",
            "flex time hours TIME\n",
            "State ORG\n",
            "Statistics Tutor 09/2005 ORG\n",
            "State ORG\n",
            "Google Express ORG\n",
            "11/2004 CARDINAL\n",
            "State Analyzed ORG\n",
            "77Looks CARDINAL\n",
            "June 2013 DATE\n",
            "10/2011 CARDINAL\n",
            "KPI ORG\n",
            "more than 80% PERCENT\n",
            "10/2011 CARDINAL\n",
            "Account ORG\n",
            "State ORG\n",
            "Skills Tutoring ORG\n",
            "English LANGUAGE\n",
            "Account ORG\n",
            "C++ DATE\n",
            "MS Office Suite ORG\n",
            "Google Docs PERSON\n",
            "SQL ORG\n"
          ]
        }
      ]
    },
    {
      "cell_type": "markdown",
      "source": [
        "# Entity Ruler"
      ],
      "metadata": {
        "id": "qeh_N4b9tSV4"
      }
    },
    {
      "cell_type": "markdown",
      "source": [
        "Entity ruler helps us add additional rules to highlight various categories within the text, such as skills and job description in our case."
      ],
      "metadata": {
        "id": "IbfvBW3ntasV"
      }
    },
    {
      "cell_type": "code",
      "source": [
        "ruler = nlp.add_pipe(\"entity_ruler\")"
      ],
      "metadata": {
        "id": "HTvpaV9IsgkK"
      },
      "execution_count": null,
      "outputs": []
    },
    {
      "cell_type": "markdown",
      "source": [
        "# Skills json files"
      ],
      "metadata": {
        "id": "hURaOWtItlFn"
      }
    },
    {
      "cell_type": "code",
      "source": [
        "!pip install jsonlines"
      ],
      "metadata": {
        "colab": {
          "base_uri": "https://localhost:8080/"
        },
        "id": "ARCBapC9yRpq",
        "outputId": "31c3eebf-ae16-4cd6-908a-c1d34f0b38ea"
      },
      "execution_count": null,
      "outputs": [
        {
          "output_type": "stream",
          "name": "stdout",
          "text": [
            "Looking in indexes: https://pypi.org/simple, https://us-python.pkg.dev/colab-wheels/public/simple/\n",
            "Collecting jsonlines\n",
            "  Downloading jsonlines-3.1.0-py3-none-any.whl (8.6 kB)\n",
            "Requirement already satisfied: attrs>=19.2.0 in /usr/local/lib/python3.8/dist-packages (from jsonlines) (22.2.0)\n",
            "Installing collected packages: jsonlines\n",
            "Successfully installed jsonlines-3.1.0\n"
          ]
        }
      ]
    },
    {
      "cell_type": "code",
      "source": [
        "import jsonlines\n",
        "skill_pattern = \"jz_skill_patterns.jsonl\"\n",
        "ruler.from_disk(skill_pattern)\n",
        "#ruler.add_patterns()\n",
        "nlp.pipe_names"
      ],
      "metadata": {
        "colab": {
          "base_uri": "https://localhost:8080/"
        },
        "id": "oz-c79kAtiZm",
        "outputId": "9b17d388-4ca2-4936-bd04-0408a39c1ac4"
      },
      "execution_count": null,
      "outputs": [
        {
          "output_type": "execute_result",
          "data": {
            "text/plain": [
              "['tok2vec',\n",
              " 'tagger',\n",
              " 'parser',\n",
              " 'attribute_ruler',\n",
              " 'lemmatizer',\n",
              " 'ner',\n",
              " 'entity_ruler']"
            ]
          },
          "metadata": {},
          "execution_count": 18
        }
      ]
    },
    {
      "cell_type": "code",
      "source": [
        "print(ruler)"
      ],
      "metadata": {
        "colab": {
          "base_uri": "https://localhost:8080/"
        },
        "id": "v8Z4oAE5y9OD",
        "outputId": "2c2fb59a-98d0-4802-fa64-de961db7743c"
      },
      "execution_count": null,
      "outputs": [
        {
          "output_type": "stream",
          "name": "stdout",
          "text": [
            "<spacy.pipeline.entityruler.EntityRuler object at 0x7ffa4ff38700>\n"
          ]
        }
      ]
    },
    {
      "cell_type": "code",
      "source": [
        "doc2 = nlp(text)\n",
        "for ent in doc2.ents:\n",
        "  print(ent.text, ent.label_)"
      ],
      "metadata": {
        "colab": {
          "base_uri": "https://localhost:8080/"
        },
        "id": "mvlPufM5vMvx",
        "outputId": "cb92138d-b17a-423b-9fa7-157334b46e8a"
      },
      "execution_count": null,
      "outputs": [
        {
          "output_type": "stream",
          "name": "stdout",
          "text": [
            "ENGINEERING SKILL\n",
            "3 years DATE\n",
            "K-12 PRODUCT\n",
            "Mathematics GPE\n",
            "8 years DATE\n",
            "documentation SKILL\n",
            "Silicon Valley LOC\n",
            "K-12 PERSON\n",
            "SFSU ORG\n",
            "Microsoft PowerPoint ORG\n",
            "Google Docs PERSON\n",
            "SQL SKILL\n",
            "SQL ORG\n",
            "data analysis SKILL\n",
            "Business Administration SKILL\n",
            "Decision Sciences ORG\n",
            "2007 DATE\n",
            "San Francisco ORG\n",
            "Operations Management SKILL\n",
            "Total Quality Systems ORG\n",
            "Project Management ORG\n",
            "Business Forecasting ORG\n",
            "Supply Chain Management Bachelor of Science : Mathematical Engineering ORG\n",
            "Yildiz Technical University City ORG\n",
            "1 CARDINAL\n",
            "2 DATE\n",
            "3 & 4 ORG\n",
            "Linear Algebra ORG\n",
            "Mathematical Logic SKILL\n",
            "Theory of Probability ORG\n",
            "Numerical Analysis 1 ORG\n",
            "Statistics ORG\n",
            "Matrix Analysis ORG\n",
            "Optimization Techniques ORG\n",
            "Current Company Name City ORG\n",
            "State ORG\n",
            "Algebra ORG\n",
            "Geometry ORG\n",
            "Statistics Attended Algebra ORG\n",
            "English LANGUAGE\n",
            "Volunteer Math Tutor 04/2015 PERSON\n",
            "Algebra ORG\n",
            "flex time hours TIME\n",
            "State ORG\n",
            "business SKILL\n",
            "operations management SKILL\n",
            "operations management SKILL\n",
            "Statistics Tutor 09/2005 ORG\n",
            "State ORG\n",
            "regression analysis SKILL\n",
            "Google Express ORG\n",
            "11/2004 CARDINAL\n",
            "State Analyzed ORG\n",
            "regression analysis SKILL\n",
            "data analysis SKILL\n",
            "77Looks CARDINAL\n",
            "marketing SKILL\n",
            "content management SKILL\n",
            "testing SKILL\n",
            "June 2013 DATE\n",
            "10/2011 CARDINAL\n",
            "KPI ORG\n",
            "more than 80% PERCENT\n",
            "10/2011 CARDINAL\n",
            "support SKILL\n",
            "Account ORG\n",
            "State ORG\n",
            "Skills Tutoring ORG\n",
            "English LANGUAGE\n",
            "content management SKILL\n",
            "documentation SKILL\n",
            "monitoring SKILL\n",
            "Account ORG\n",
            "data analysis SKILL\n",
            "operations management SKILL\n",
            "project management SKILL\n",
            "C SKILL\n",
            "C++ DATE\n",
            "MS Office Suite ORG\n",
            "Google Docs PERSON\n",
            "SQL ORG\n"
          ]
        }
      ]
    },
    {
      "cell_type": "markdown",
      "source": [
        "Still some skills are not recognizing."
      ],
      "metadata": {
        "id": "hoUZ5NQdpZIb"
      }
    },
    {
      "cell_type": "code",
      "source": [
        "nlp.analyze_pipes()"
      ],
      "metadata": {
        "colab": {
          "base_uri": "https://localhost:8080/"
        },
        "id": "ngTqUuCcpgoA",
        "outputId": "d63b6f62-2edb-4982-f04d-1311715110cf"
      },
      "execution_count": null,
      "outputs": [
        {
          "output_type": "execute_result",
          "data": {
            "text/plain": [
              "{'summary': {'tok2vec': {'assigns': ['doc.tensor'],\n",
              "   'requires': [],\n",
              "   'scores': [],\n",
              "   'retokenizes': False},\n",
              "  'tagger': {'assigns': ['token.tag'],\n",
              "   'requires': [],\n",
              "   'scores': ['tag_acc'],\n",
              "   'retokenizes': False},\n",
              "  'parser': {'assigns': ['token.dep',\n",
              "    'token.head',\n",
              "    'token.is_sent_start',\n",
              "    'doc.sents'],\n",
              "   'requires': [],\n",
              "   'scores': ['dep_uas',\n",
              "    'dep_las',\n",
              "    'dep_las_per_type',\n",
              "    'sents_p',\n",
              "    'sents_r',\n",
              "    'sents_f'],\n",
              "   'retokenizes': False},\n",
              "  'attribute_ruler': {'assigns': [],\n",
              "   'requires': [],\n",
              "   'scores': [],\n",
              "   'retokenizes': False},\n",
              "  'lemmatizer': {'assigns': ['token.lemma'],\n",
              "   'requires': [],\n",
              "   'scores': ['lemma_acc'],\n",
              "   'retokenizes': False},\n",
              "  'ner': {'assigns': ['doc.ents', 'token.ent_iob', 'token.ent_type'],\n",
              "   'requires': [],\n",
              "   'scores': ['ents_f', 'ents_p', 'ents_r', 'ents_per_type'],\n",
              "   'retokenizes': False},\n",
              "  'entity_ruler': {'assigns': ['doc.ents', 'token.ent_type', 'token.ent_iob'],\n",
              "   'requires': [],\n",
              "   'scores': ['ents_f', 'ents_p', 'ents_r', 'ents_per_type'],\n",
              "   'retokenizes': False}},\n",
              " 'problems': {'tok2vec': [],\n",
              "  'tagger': [],\n",
              "  'parser': [],\n",
              "  'attribute_ruler': [],\n",
              "  'lemmatizer': [],\n",
              "  'ner': [],\n",
              "  'entity_ruler': []},\n",
              " 'attrs': {'token.tag': {'assigns': ['tagger'], 'requires': []},\n",
              "  'token.ent_iob': {'assigns': ['ner', 'entity_ruler'], 'requires': []},\n",
              "  'doc.sents': {'assigns': ['parser'], 'requires': []},\n",
              "  'doc.ents': {'assigns': ['ner', 'entity_ruler'], 'requires': []},\n",
              "  'token.dep': {'assigns': ['parser'], 'requires': []},\n",
              "  'token.ent_type': {'assigns': ['ner', 'entity_ruler'], 'requires': []},\n",
              "  'token.lemma': {'assigns': ['lemmatizer'], 'requires': []},\n",
              "  'doc.tensor': {'assigns': ['tok2vec'], 'requires': []},\n",
              "  'token.head': {'assigns': ['parser'], 'requires': []},\n",
              "  'token.is_sent_start': {'assigns': ['parser'], 'requires': []}}}"
            ]
          },
          "metadata": {},
          "execution_count": 21
        }
      ]
    },
    {
      "cell_type": "markdown",
      "source": [
        "We will add entity before ner model, so it can be re-written as"
      ],
      "metadata": {
        "id": "DbRYdf3ZpqIs"
      }
    },
    {
      "cell_type": "code",
      "source": [
        "nlp2 = spacy.load(\"en_core_web_sm\")\n",
        "ruler2 = nlp2.add_pipe(\"entity_ruler\", before=\"ner\")\n",
        "ruler2.from_disk(skill_pattern)"
      ],
      "metadata": {
        "colab": {
          "base_uri": "https://localhost:8080/"
        },
        "id": "hHh-Qyq9pyp3",
        "outputId": "de79bdf0-ecf7-4823-8252-6f5d901afc51"
      },
      "execution_count": null,
      "outputs": [
        {
          "output_type": "execute_result",
          "data": {
            "text/plain": [
              "<spacy.pipeline.entityruler.EntityRuler at 0x7ffa4ddbd5c0>"
            ]
          },
          "metadata": {},
          "execution_count": 22
        }
      ]
    },
    {
      "cell_type": "code",
      "source": [
        "doc=nlp2(text)\n",
        "for ent in doc.ents:\n",
        "  print(ent.text, ent.label_)"
      ],
      "metadata": {
        "colab": {
          "base_uri": "https://localhost:8080/"
        },
        "id": "_I7dATgCqma9",
        "outputId": "98d71fb8-e8b8-4e06-ccdb-3e742cae5f17"
      },
      "execution_count": null,
      "outputs": [
        {
          "output_type": "stream",
          "name": "stdout",
          "text": [
            "ENGINEERING SKILL\n",
            "3 years DATE\n",
            "K-12 PRODUCT\n",
            "Mathematics GPE\n",
            "8 years DATE\n",
            "documentation SKILL\n",
            "Silicon Valley LOC\n",
            "K-12 PERSON\n",
            "SFSU ORG\n",
            "Microsoft PowerPoint ORG\n",
            "Google SKILL\n",
            "SQL SKILL\n",
            "SQL SKILL\n",
            "data analysis SKILL\n",
            "Business Administration SKILL\n",
            "Decision Sciences ORG\n",
            "2007 DATE\n",
            "San Francisco ORG\n",
            "Operations Management SKILL\n",
            "Total Quality Systems ORG\n",
            "Project Management SKILL\n",
            "Business SKILL\n",
            "Supply Chain Management Bachelor of Science : Mathematical ORG\n",
            "Engineering SKILL\n",
            "Yildiz Technical University City ORG\n",
            "1 CARDINAL\n",
            "2 DATE\n",
            "3 & 4 ORG\n",
            "Linear Algebra ORG\n",
            "Mathematical Logic SKILL\n",
            "Theory of Probability ORG\n",
            "Numerical Analysis 1 ORG\n",
            "Statistics ORG\n",
            "Matrix Analysis ORG\n",
            "Optimization Techniques ORG\n",
            "Current Company Name City ORG\n",
            "State ORG\n",
            "Algebra ORG\n",
            "Geometry ORG\n",
            "Statistics Attended Algebra ORG\n",
            "English LANGUAGE\n",
            "Volunteer Math Tutor 04/2015 PERSON\n",
            "Algebra ORG\n",
            "flex time hours TIME\n",
            "State ORG\n",
            "business SKILL\n",
            "operations management SKILL\n",
            "operations management SKILL\n",
            "Statistics Tutor 09/2005 ORG\n",
            "State ORG\n",
            "regression analysis SKILL\n",
            "Google SKILL\n",
            "11/2004 CARDINAL\n",
            "State Analyzed ORG\n",
            "regression analysis SKILL\n",
            "data analysis SKILL\n",
            "77Looks CARDINAL\n",
            "marketing SKILL\n",
            "content management SKILL\n",
            "testing SKILL\n",
            "June 2013 DATE\n",
            "10/2011 CARDINAL\n",
            "KPI ORG\n",
            "more than 80% PERCENT\n",
            "10/2011 CARDINAL\n",
            "support SKILL\n",
            "Account ORG\n",
            "State ORG\n",
            "Skills Tutoring ORG\n",
            "English LANGUAGE\n",
            "content management SKILL\n",
            "documentation SKILL\n",
            "monitoring SKILL\n",
            "Account ORG\n",
            "data analysis SKILL\n",
            "operations management SKILL\n",
            "project management SKILL\n",
            "C SKILL\n",
            "C++ SKILL\n",
            "MS Office Suite ORG\n",
            "Google SKILL\n",
            "Docs PRODUCT\n",
            "SQL SKILL\n"
          ]
        }
      ]
    },
    {
      "cell_type": "markdown",
      "source": [
        "# To Extract Skills"
      ],
      "metadata": {
        "id": "WP4X5UQnuebL"
      }
    },
    {
      "cell_type": "markdown",
      "source": [
        "To extract skills for multiple people."
      ],
      "metadata": {
        "id": "JsRd_VlRGQxB"
      }
    },
    {
      "cell_type": "code",
      "source": [
        "'''\n",
        "def extract_skills(doc):\n",
        "  myset = []\n",
        "  subset = []\n",
        "  for ent in doc.ents:\n",
        "    if ent.label_ == \"SKILL\":\n",
        "      subset.append(ent.text)\n",
        "  myset.append(subset)\n",
        "  return subset\n",
        "\n",
        "def unique_skills(x):\n",
        "    return list(set(x))\n",
        "'''"
      ],
      "metadata": {
        "id": "uMHxl-itucof"
      },
      "execution_count": null,
      "outputs": []
    }
  ]
}